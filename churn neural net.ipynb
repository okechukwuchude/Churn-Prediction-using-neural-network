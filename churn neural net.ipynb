{
 "cells": [
  {
   "cell_type": "markdown",
   "id": "ffe8269c-0214-473a-99c6-68a47dcf2670",
   "metadata": {},
   "source": [
    "label encoded geography"
   ]
  },
  {
   "cell_type": "markdown",
   "id": "b60b0068-8392-46ca-a7e1-ced6651aab34",
   "metadata": {},
   "source": [
    "Data Preporcessing"
   ]
  },
  {
   "cell_type": "code",
   "execution_count": 1,
   "id": "3a0a415b-0e17-4f41-bc8b-ee6ff9b1d24e",
   "metadata": {},
   "outputs": [],
   "source": [
    "# Importing the libraries\n",
    "import numpy as np\n",
    "import matplotlib.pyplot as plt\n",
    "import pandas as pd"
   ]
  },
  {
   "cell_type": "code",
   "execution_count": 2,
   "id": "925de332-52e8-4d65-b938-0f0e3d244d97",
   "metadata": {},
   "outputs": [],
   "source": [
    "# Importing the dataset\n",
    "dataset = pd.read_csv(r\"C:\\Users\\okechukwu chude\\Documents\\Neural Network\\Customer Churn\\Churn_Modelling.csv\")\n",
    "x = dataset.iloc[:, 3:13].values\n",
    "y = dataset.iloc[:, 13].values"
   ]
  },
  {
   "cell_type": "code",
   "execution_count": 3,
   "id": "53593cfe-f024-4cb5-b19a-a500c7d54bd9",
   "metadata": {},
   "outputs": [
    {
     "name": "stdout",
     "output_type": "stream",
     "text": [
      "   RowNumber  CustomerId   Surname  CreditScore Geography  Gender  Age  \\\n",
      "0          1    15634602  Hargrave          619    France  Female   42   \n",
      "1          2    15647311      Hill          608     Spain  Female   41   \n",
      "2          3    15619304      Onio          502    France  Female   42   \n",
      "3          4    15701354      Boni          699    France  Female   39   \n",
      "4          5    15737888  Mitchell          850     Spain  Female   43   \n",
      "\n",
      "   Tenure    Balance  NumOfProducts  HasCrCard  IsActiveMember  \\\n",
      "0       2       0.00              1          1               1   \n",
      "1       1   83807.86              1          0               1   \n",
      "2       8  159660.80              3          1               0   \n",
      "3       1       0.00              2          0               0   \n",
      "4       2  125510.82              1          1               1   \n",
      "\n",
      "   EstimatedSalary  Exited  \n",
      "0        101348.88       1  \n",
      "1        112542.58       0  \n",
      "2        113931.57       1  \n",
      "3         93826.63       0  \n",
      "4         79084.10       0  \n"
     ]
    }
   ],
   "source": [
    "print(dataset.head())"
   ]
  },
  {
   "cell_type": "markdown",
   "id": "7beceaeb-e128-43c7-b988-62107c3e0b7d",
   "metadata": {},
   "source": [
    "Encoding categorical data\n"
   ]
  },
  {
   "cell_type": "code",
   "execution_count": 4,
   "id": "9583557f-1fc9-410d-945f-8da195d4ddf7",
   "metadata": {},
   "outputs": [
    {
     "name": "stdout",
     "output_type": "stream",
     "text": [
      "[[619 0 'Female' ... 1 1 101348.88]\n",
      " [608 2 'Female' ... 0 1 112542.58]\n",
      " [502 0 'Female' ... 1 0 113931.57]\n",
      " ...\n",
      " [709 0 'Female' ... 0 1 42085.58]\n",
      " [772 1 'Male' ... 1 0 92888.52]\n",
      " [792 0 'Female' ... 1 0 38190.78]]\n"
     ]
    }
   ],
   "source": [
    "# Label Encoding the \"geography\" column\n",
    "from sklearn.preprocessing import LabelEncoder\n",
    "le = LabelEncoder()\n",
    "x[:, 1] = le.fit_transform(x[:, 1])\n",
    "print(x)"
   ]
  },
  {
   "cell_type": "code",
   "execution_count": 5,
   "id": "60a9facf-cdd1-4b42-8400-246a281b23b1",
   "metadata": {},
   "outputs": [
    {
     "name": "stdout",
     "output_type": "stream",
     "text": [
      "[[619 0 0 ... 1 1 101348.88]\n",
      " [608 2 0 ... 0 1 112542.58]\n",
      " [502 0 0 ... 1 0 113931.57]\n",
      " ...\n",
      " [709 0 0 ... 0 1 42085.58]\n",
      " [772 1 1 ... 1 0 92888.52]\n",
      " [792 0 0 ... 1 0 38190.78]]\n"
     ]
    }
   ],
   "source": [
    "# Label Encoding the \"Gender\" column\n",
    "from sklearn.preprocessing import LabelEncoder\n",
    "le = LabelEncoder()\n",
    "x[:, 2] = le.fit_transform(x[:, 2])\n",
    "print(x)"
   ]
  },
  {
   "cell_type": "code",
   "execution_count": 6,
   "id": "47a96ded-065c-4e9e-844d-9455f5fa9e48",
   "metadata": {},
   "outputs": [
    {
     "name": "stdout",
     "output_type": "stream",
     "text": [
      "[[619 0 0 42 2 0.0 1 1 1 101348.88]\n",
      " [608 2 0 41 1 83807.86 1 0 1 112542.58]]\n"
     ]
    }
   ],
   "source": [
    "# Get the first two rows\n",
    "first_two_rows = x[:2]\n",
    "\n",
    "print(first_two_rows)"
   ]
  },
  {
   "cell_type": "markdown",
   "id": "c4d21897-5bda-4433-afd1-daf6c95a3c68",
   "metadata": {},
   "source": [
    "Splitting into training and test set"
   ]
  },
  {
   "cell_type": "code",
   "execution_count": 7,
   "id": "87efc8f0-f8b9-4d03-abbb-789f01ff1a52",
   "metadata": {},
   "outputs": [],
   "source": [
    "from sklearn.model_selection import train_test_split\n",
    "X_train, X_test, y_train, y_test = train_test_split(x, y, test_size = 0.2, random_state = 0)"
   ]
  },
  {
   "cell_type": "markdown",
   "id": "e253c525-3559-47bf-9a63-5667aac84c09",
   "metadata": {},
   "source": [
    "Feature Scaling"
   ]
  },
  {
   "cell_type": "code",
   "execution_count": 8,
   "id": "cafaaf62-ee76-4e45-99dc-d23c04c1c832",
   "metadata": {},
   "outputs": [],
   "source": [
    "from sklearn.preprocessing import StandardScaler\n",
    "sc = StandardScaler()\n",
    "X_train = sc.fit_transform(X_train)\n",
    "X_test = sc.transform(X_test)"
   ]
  },
  {
   "cell_type": "markdown",
   "id": "19c3fd83-1595-4e6a-9abf-27d40573b689",
   "metadata": {},
   "source": [
    "Developing the ANN"
   ]
  },
  {
   "cell_type": "code",
   "execution_count": 9,
   "id": "a0b6da11-42c3-4dac-a4c2-d1ddc1ee1924",
   "metadata": {},
   "outputs": [],
   "source": [
    "#importing keras libraries and packges\n",
    "import keras\n",
    "from keras.models import Sequential #required to initialise ann\n",
    "from keras.layers import Dense # required to build laters of ann"
   ]
  },
  {
   "cell_type": "markdown",
   "id": "e81a6c2d-201e-4bdd-b5af-2d25ac35b88b",
   "metadata": {},
   "source": [
    "Initialising the ANN"
   ]
  },
  {
   "cell_type": "code",
   "execution_count": 10,
   "id": "8d33a986-13b2-45cd-ad32-7b14cde127be",
   "metadata": {},
   "outputs": [],
   "source": [
    "classifier = Sequential()"
   ]
  },
  {
   "cell_type": "markdown",
   "id": "1d0683f9-996b-478f-8759-a66bcef63653",
   "metadata": {},
   "source": [
    "Adding the input layer and the first hidden layer"
   ]
  },
  {
   "cell_type": "code",
   "execution_count": 11,
   "id": "3c9b4f85-b90a-4ff7-9d09-92b9372b1a17",
   "metadata": {},
   "outputs": [],
   "source": [
    "classifier.add(Dense(units=6, activation='relu', input_dim=10))"
   ]
  },
  {
   "cell_type": "markdown",
   "id": "0e78bd1d-efd3-49d2-9757-cad98b692d21",
   "metadata": {},
   "source": [
    "Adding the second hidden layer"
   ]
  },
  {
   "cell_type": "code",
   "execution_count": 12,
   "id": "a6e0c917-1b02-45cc-b0b2-11ef0ab0ff74",
   "metadata": {},
   "outputs": [],
   "source": [
    "classifier.add(Dense(units=6, activation='relu'))"
   ]
  },
  {
   "cell_type": "markdown",
   "id": "6d4fcd9f-9544-4e5c-9cc5-dcda5bf9c370",
   "metadata": {},
   "source": [
    "Adding the output layer"
   ]
  },
  {
   "cell_type": "code",
   "execution_count": 13,
   "id": "05f8161e-a0af-43a6-8001-4f31cd44c39b",
   "metadata": {},
   "outputs": [],
   "source": [
    "classifier.add(Dense(units=1, activation='sigmoid'))"
   ]
  },
  {
   "cell_type": "markdown",
   "id": "a675af21-c2bc-496a-846e-af8b5e64af1b",
   "metadata": {},
   "source": [
    "Compiling the ANN"
   ]
  },
  {
   "cell_type": "code",
   "execution_count": 14,
   "id": "b2beea48-cc12-4587-99aa-c250941ef970",
   "metadata": {},
   "outputs": [],
   "source": [
    "classifier.compile(optimizer = 'adam', loss = 'binary_crossentropy', metrics=['accuracy'])"
   ]
  },
  {
   "cell_type": "markdown",
   "id": "535a33c6-ee8c-4b76-9709-f3e5c1cef868",
   "metadata": {},
   "source": [
    "Fitting the ANN to training set"
   ]
  },
  {
   "cell_type": "code",
   "execution_count": 15,
   "id": "5ad5402c-6a09-4570-98ec-9b230d33305c",
   "metadata": {},
   "outputs": [
    {
     "name": "stdout",
     "output_type": "stream",
     "text": [
      "Epoch 1/100\n",
      "800/800 [==============================] - 3s 2ms/step - loss: 0.4996 - accuracy: 0.7947\n",
      "Epoch 2/100\n",
      "800/800 [==============================] - 2s 2ms/step - loss: 0.4355 - accuracy: 0.8076\n",
      "Epoch 3/100\n",
      "800/800 [==============================] - 1s 2ms/step - loss: 0.4187 - accuracy: 0.8192\n",
      "Epoch 4/100\n",
      "800/800 [==============================] - 1s 2ms/step - loss: 0.4053 - accuracy: 0.8316\n",
      "Epoch 5/100\n",
      "800/800 [==============================] - 1s 2ms/step - loss: 0.3927 - accuracy: 0.8388\n",
      "Epoch 6/100\n",
      "800/800 [==============================] - 1s 2ms/step - loss: 0.3816 - accuracy: 0.8440\n",
      "Epoch 7/100\n",
      "800/800 [==============================] - 2s 2ms/step - loss: 0.3721 - accuracy: 0.8478\n",
      "Epoch 8/100\n",
      "800/800 [==============================] - 1s 2ms/step - loss: 0.3658 - accuracy: 0.8487\n",
      "Epoch 9/100\n",
      "800/800 [==============================] - 1s 2ms/step - loss: 0.3613 - accuracy: 0.8514\n",
      "Epoch 10/100\n",
      "800/800 [==============================] - 2s 2ms/step - loss: 0.3585 - accuracy: 0.8539\n",
      "Epoch 11/100\n",
      "800/800 [==============================] - 2s 2ms/step - loss: 0.3557 - accuracy: 0.8533\n",
      "Epoch 12/100\n",
      "800/800 [==============================] - 2s 3ms/step - loss: 0.3534 - accuracy: 0.8559\n",
      "Epoch 13/100\n",
      "800/800 [==============================] - 2s 3ms/step - loss: 0.3520 - accuracy: 0.8575\n",
      "Epoch 14/100\n",
      "800/800 [==============================] - 2s 3ms/step - loss: 0.3509 - accuracy: 0.8580\n",
      "Epoch 15/100\n",
      "800/800 [==============================] - 2s 3ms/step - loss: 0.3511 - accuracy: 0.8550\n",
      "Epoch 16/100\n",
      "800/800 [==============================] - 2s 3ms/step - loss: 0.3498 - accuracy: 0.8580\n",
      "Epoch 17/100\n",
      "800/800 [==============================] - 2s 3ms/step - loss: 0.3489 - accuracy: 0.8570\n",
      "Epoch 18/100\n",
      "800/800 [==============================] - 1s 2ms/step - loss: 0.3481 - accuracy: 0.8566\n",
      "Epoch 19/100\n",
      "800/800 [==============================] - 1s 2ms/step - loss: 0.3479 - accuracy: 0.8575\n",
      "Epoch 20/100\n",
      "800/800 [==============================] - 2s 2ms/step - loss: 0.3480 - accuracy: 0.8571\n",
      "Epoch 21/100\n",
      "800/800 [==============================] - 1s 2ms/step - loss: 0.3469 - accuracy: 0.8591\n",
      "Epoch 22/100\n",
      "800/800 [==============================] - 1s 2ms/step - loss: 0.3468 - accuracy: 0.8576\n",
      "Epoch 23/100\n",
      "800/800 [==============================] - 1s 2ms/step - loss: 0.3467 - accuracy: 0.8580\n",
      "Epoch 24/100\n",
      "800/800 [==============================] - 2s 2ms/step - loss: 0.3463 - accuracy: 0.8583\n",
      "Epoch 25/100\n",
      "800/800 [==============================] - 2s 3ms/step - loss: 0.3460 - accuracy: 0.8583\n",
      "Epoch 26/100\n",
      "800/800 [==============================] - 2s 2ms/step - loss: 0.3457 - accuracy: 0.8571\n",
      "Epoch 27/100\n",
      "800/800 [==============================] - 2s 2ms/step - loss: 0.3452 - accuracy: 0.8596\n",
      "Epoch 28/100\n",
      "800/800 [==============================] - 1s 2ms/step - loss: 0.3444 - accuracy: 0.8590\n",
      "Epoch 29/100\n",
      "800/800 [==============================] - 1s 2ms/step - loss: 0.3440 - accuracy: 0.8581\n",
      "Epoch 30/100\n",
      "800/800 [==============================] - 1s 1ms/step - loss: 0.3442 - accuracy: 0.8594\n",
      "Epoch 31/100\n",
      "800/800 [==============================] - 1s 2ms/step - loss: 0.3438 - accuracy: 0.8564\n",
      "Epoch 32/100\n",
      "800/800 [==============================] - 1s 2ms/step - loss: 0.3432 - accuracy: 0.8597\n",
      "Epoch 33/100\n",
      "800/800 [==============================] - 1s 2ms/step - loss: 0.3432 - accuracy: 0.8584\n",
      "Epoch 34/100\n",
      "800/800 [==============================] - 1s 1ms/step - loss: 0.3424 - accuracy: 0.8589\n",
      "Epoch 35/100\n",
      "800/800 [==============================] - 1s 1ms/step - loss: 0.3417 - accuracy: 0.8601\n",
      "Epoch 36/100\n",
      "800/800 [==============================] - 1s 2ms/step - loss: 0.3419 - accuracy: 0.8595\n",
      "Epoch 37/100\n",
      "800/800 [==============================] - 2s 2ms/step - loss: 0.3411 - accuracy: 0.8604\n",
      "Epoch 38/100\n",
      "800/800 [==============================] - 1s 1ms/step - loss: 0.3409 - accuracy: 0.8599\n",
      "Epoch 39/100\n",
      "800/800 [==============================] - 1s 2ms/step - loss: 0.3405 - accuracy: 0.8611\n",
      "Epoch 40/100\n",
      "800/800 [==============================] - 2s 2ms/step - loss: 0.3395 - accuracy: 0.8602\n",
      "Epoch 41/100\n",
      "800/800 [==============================] - 2s 3ms/step - loss: 0.3398 - accuracy: 0.8609\n",
      "Epoch 42/100\n",
      "800/800 [==============================] - 2s 3ms/step - loss: 0.3394 - accuracy: 0.8624\n",
      "Epoch 43/100\n",
      "800/800 [==============================] - 2s 3ms/step - loss: 0.3390 - accuracy: 0.8611\n",
      "Epoch 44/100\n",
      "800/800 [==============================] - 1s 2ms/step - loss: 0.3390 - accuracy: 0.8620\n",
      "Epoch 45/100\n",
      "800/800 [==============================] - 1s 2ms/step - loss: 0.3377 - accuracy: 0.8625\n",
      "Epoch 46/100\n",
      "800/800 [==============================] - 1s 1ms/step - loss: 0.3380 - accuracy: 0.8616\n",
      "Epoch 47/100\n",
      "800/800 [==============================] - 2s 2ms/step - loss: 0.3387 - accuracy: 0.8616\n",
      "Epoch 48/100\n",
      "800/800 [==============================] - 2s 2ms/step - loss: 0.3376 - accuracy: 0.8630\n",
      "Epoch 49/100\n",
      "800/800 [==============================] - 1s 2ms/step - loss: 0.3374 - accuracy: 0.8625\n",
      "Epoch 50/100\n",
      "800/800 [==============================] - 2s 2ms/step - loss: 0.3381 - accuracy: 0.8612\n",
      "Epoch 51/100\n",
      "800/800 [==============================] - 2s 2ms/step - loss: 0.3373 - accuracy: 0.8619\n",
      "Epoch 52/100\n",
      "800/800 [==============================] - 1s 2ms/step - loss: 0.3371 - accuracy: 0.8614\n",
      "Epoch 53/100\n",
      "800/800 [==============================] - 2s 2ms/step - loss: 0.3372 - accuracy: 0.8624\n",
      "Epoch 54/100\n",
      "800/800 [==============================] - 2s 2ms/step - loss: 0.3364 - accuracy: 0.8634\n",
      "Epoch 55/100\n",
      "800/800 [==============================] - 1s 2ms/step - loss: 0.3369 - accuracy: 0.8633\n",
      "Epoch 56/100\n",
      "800/800 [==============================] - 1s 2ms/step - loss: 0.3365 - accuracy: 0.8636\n",
      "Epoch 57/100\n",
      "800/800 [==============================] - 2s 2ms/step - loss: 0.3365 - accuracy: 0.8618\n",
      "Epoch 58/100\n",
      "800/800 [==============================] - 2s 3ms/step - loss: 0.3364 - accuracy: 0.8624\n",
      "Epoch 59/100\n",
      "800/800 [==============================] - 2s 3ms/step - loss: 0.3360 - accuracy: 0.8616\n",
      "Epoch 60/100\n",
      "800/800 [==============================] - 2s 2ms/step - loss: 0.3363 - accuracy: 0.8601\n",
      "Epoch 61/100\n",
      "800/800 [==============================] - 2s 2ms/step - loss: 0.3361 - accuracy: 0.8619\n",
      "Epoch 62/100\n",
      "800/800 [==============================] - 2s 2ms/step - loss: 0.3355 - accuracy: 0.8625\n",
      "Epoch 63/100\n",
      "800/800 [==============================] - 2s 3ms/step - loss: 0.3364 - accuracy: 0.8619\n",
      "Epoch 64/100\n",
      "800/800 [==============================] - 2s 3ms/step - loss: 0.3361 - accuracy: 0.8618\n",
      "Epoch 65/100\n",
      "800/800 [==============================] - 2s 2ms/step - loss: 0.3362 - accuracy: 0.8618\n",
      "Epoch 66/100\n",
      "800/800 [==============================] - 2s 2ms/step - loss: 0.3354 - accuracy: 0.8604\n",
      "Epoch 67/100\n",
      "800/800 [==============================] - 2s 3ms/step - loss: 0.3357 - accuracy: 0.8627\n",
      "Epoch 68/100\n",
      "800/800 [==============================] - 1s 2ms/step - loss: 0.3354 - accuracy: 0.8606\n",
      "Epoch 69/100\n",
      "800/800 [==============================] - 1s 2ms/step - loss: 0.3363 - accuracy: 0.8629\n",
      "Epoch 70/100\n",
      "800/800 [==============================] - 2s 2ms/step - loss: 0.3358 - accuracy: 0.8625\n",
      "Epoch 71/100\n",
      "800/800 [==============================] - 1s 2ms/step - loss: 0.3356 - accuracy: 0.8639\n",
      "Epoch 72/100\n",
      "800/800 [==============================] - 2s 2ms/step - loss: 0.3358 - accuracy: 0.8616\n",
      "Epoch 73/100\n",
      "800/800 [==============================] - 1s 2ms/step - loss: 0.3356 - accuracy: 0.8616\n",
      "Epoch 74/100\n",
      "800/800 [==============================] - 1s 1ms/step - loss: 0.3358 - accuracy: 0.8630\n",
      "Epoch 75/100\n",
      "800/800 [==============================] - 2s 2ms/step - loss: 0.3357 - accuracy: 0.8622\n",
      "Epoch 76/100\n",
      "800/800 [==============================] - 1s 2ms/step - loss: 0.3350 - accuracy: 0.8614\n",
      "Epoch 77/100\n",
      "800/800 [==============================] - 1s 2ms/step - loss: 0.3359 - accuracy: 0.8620\n",
      "Epoch 78/100\n",
      "800/800 [==============================] - 2s 2ms/step - loss: 0.3352 - accuracy: 0.8625\n",
      "Epoch 79/100\n",
      "800/800 [==============================] - 2s 2ms/step - loss: 0.3353 - accuracy: 0.8610\n",
      "Epoch 80/100\n",
      "800/800 [==============================] - 2s 2ms/step - loss: 0.3356 - accuracy: 0.8629\n",
      "Epoch 81/100\n",
      "800/800 [==============================] - 2s 2ms/step - loss: 0.3350 - accuracy: 0.8635\n",
      "Epoch 82/100\n",
      "800/800 [==============================] - 2s 2ms/step - loss: 0.3355 - accuracy: 0.8604\n",
      "Epoch 83/100\n",
      "800/800 [==============================] - 2s 2ms/step - loss: 0.3356 - accuracy: 0.8601\n",
      "Epoch 84/100\n",
      "800/800 [==============================] - 2s 2ms/step - loss: 0.3348 - accuracy: 0.8620\n",
      "Epoch 85/100\n",
      "800/800 [==============================] - 2s 2ms/step - loss: 0.3345 - accuracy: 0.8624\n",
      "Epoch 86/100\n",
      "800/800 [==============================] - 1s 2ms/step - loss: 0.3348 - accuracy: 0.8627\n",
      "Epoch 87/100\n",
      "800/800 [==============================] - 1s 2ms/step - loss: 0.3352 - accuracy: 0.8606\n",
      "Epoch 88/100\n",
      "800/800 [==============================] - 2s 3ms/step - loss: 0.3353 - accuracy: 0.8622\n",
      "Epoch 89/100\n",
      "800/800 [==============================] - 3s 3ms/step - loss: 0.3346 - accuracy: 0.8629\n",
      "Epoch 90/100\n",
      "800/800 [==============================] - 3s 4ms/step - loss: 0.3356 - accuracy: 0.8622\n",
      "Epoch 91/100\n",
      "800/800 [==============================] - 3s 4ms/step - loss: 0.3348 - accuracy: 0.8611\n",
      "Epoch 92/100\n",
      "800/800 [==============================] - 2s 3ms/step - loss: 0.3345 - accuracy: 0.8620\n",
      "Epoch 93/100\n",
      "800/800 [==============================] - 2s 3ms/step - loss: 0.3343 - accuracy: 0.8622\n",
      "Epoch 94/100\n",
      "800/800 [==============================] - 2s 3ms/step - loss: 0.3349 - accuracy: 0.8631\n",
      "Epoch 95/100\n",
      "800/800 [==============================] - 2s 3ms/step - loss: 0.3348 - accuracy: 0.8627\n",
      "Epoch 96/100\n",
      "800/800 [==============================] - 2s 3ms/step - loss: 0.3347 - accuracy: 0.8630\n",
      "Epoch 97/100\n",
      "800/800 [==============================] - 2s 3ms/step - loss: 0.3349 - accuracy: 0.8622\n",
      "Epoch 98/100\n",
      "800/800 [==============================] - 2s 3ms/step - loss: 0.3354 - accuracy: 0.8619\n",
      "Epoch 99/100\n",
      "800/800 [==============================] - 2s 3ms/step - loss: 0.3347 - accuracy: 0.8629\n",
      "Epoch 100/100\n",
      "800/800 [==============================] - 2s 3ms/step - loss: 0.3345 - accuracy: 0.8635\n"
     ]
    },
    {
     "data": {
      "text/plain": [
       "<keras.src.callbacks.History at 0x215c1dfe310>"
      ]
     },
     "execution_count": 15,
     "metadata": {},
     "output_type": "execute_result"
    }
   ],
   "source": [
    "classifier.fit(X_train, y_train, batch_size = 10, epochs = 100)"
   ]
  },
  {
   "cell_type": "code",
   "execution_count": null,
   "id": "1b68a823-ddf5-4e2b-aaa1-5e94abf0003a",
   "metadata": {},
   "outputs": [],
   "source": []
  }
 ],
 "metadata": {
  "kernelspec": {
   "display_name": "Python 3 (ipykernel)",
   "language": "python",
   "name": "python3"
  },
  "language_info": {
   "codemirror_mode": {
    "name": "ipython",
    "version": 3
   },
   "file_extension": ".py",
   "mimetype": "text/x-python",
   "name": "python",
   "nbconvert_exporter": "python",
   "pygments_lexer": "ipython3",
   "version": "3.11.4"
  }
 },
 "nbformat": 4,
 "nbformat_minor": 5
}
